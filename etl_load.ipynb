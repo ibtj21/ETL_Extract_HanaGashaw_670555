{
 "cells": [
  {
   "cell_type": "markdown",
   "id": "d7b8577b",
   "metadata": {},
   "source": [
    "## **Loading Transformed Hospital Admission Records**"
   ]
  },
  {
   "cell_type": "markdown",
   "id": "0fa8a2cb",
   "metadata": {},
   "source": [
    "#### **Section 1:Set up and Import libraries**"
   ]
  },
  {
   "cell_type": "markdown",
   "id": "bb2e1120",
   "metadata": {},
   "source": [
    "####  \" *pip install pandas pyarrow*  \"   if not installed already"
   ]
  },
  {
   "cell_type": "code",
   "execution_count": 16,
   "id": "faeeda4a",
   "metadata": {},
   "outputs": [],
   "source": [
    "# Importing the pandas library and giving it an alias 'pd' for data manipulation and analysis\n",
    "import pandas as pd"
   ]
  },
  {
   "cell_type": "markdown",
   "id": "7d10915d",
   "metadata": {},
   "source": [
    "### **Section 2:Load Full Transformed Data**"
   ]
  },
  {
   "cell_type": "code",
   "execution_count": 17,
   "id": "d87ade7d",
   "metadata": {},
   "outputs": [],
   "source": [
    "# Reading the CSV file named 'transformed_full.csv' into a DataFrame called df_full\n",
    "df_full = pd.read_csv(\"transformed_full.csv\")\n",
    "# Save the DataFrame as a Parquet file\n",
    "df_full.to_parquet('full_data.parquet', index=False)"
   ]
  },
  {
   "cell_type": "markdown",
   "id": "580b6662",
   "metadata": {},
   "source": [
    "### **Section 3: Load Incremental Transformed Data**"
   ]
  },
  {
   "cell_type": "code",
   "execution_count": 18,
   "id": "bb5b116e",
   "metadata": {},
   "outputs": [],
   "source": [
    "# Reading the CSV file named 'transformed_incremental.csv' into a DataFrame called df_full\n",
    "df_incremental = pd.read_csv(\"transformed_incremental.csv\")\n",
    "\n",
    "# Save the DataFrame as a Parquet file\n",
    "df_incremental.to_parquet('incremental_data.parquet', index=False)"
   ]
  },
  {
   "cell_type": "markdown",
   "id": "51823594",
   "metadata": {},
   "source": [
    "### **Section 4: Verification**"
   ]
  },
  {
   "cell_type": "markdown",
   "id": "9390e0f5",
   "metadata": {},
   "source": [
    "#### *Full_data*"
   ]
  },
  {
   "cell_type": "code",
   "execution_count": 19,
   "id": "b551beb4",
   "metadata": {},
   "outputs": [
    {
     "name": "stdout",
     "output_type": "stream",
     "text": [
      "   patient_id          hospital admission_date  severity         last_updated  \\\n",
      "0           1   County Hospital     2025-04-02       Low  2025-04-02 18:27:00   \n",
      "1           2   County Hospital     2025-04-02  Moderate  2025-04-02 22:41:00   \n",
      "2           3  General Hospital     2025-04-02  Moderate  2025-04-02 22:27:00   \n",
      "3           4  General Hospital     2025-04-03  Critical  2025-04-03 03:22:00   \n",
      "4           5   County Hospital     2025-04-03       Low  2025-04-03 12:05:00   \n",
      "\n",
      "   age gender          age_group  \n",
      "0    3  Other              Child  \n",
      "1   48   Male  Middle-aged Adult  \n",
      "2   89  Other       Very Elderly  \n",
      "3   35   Male        Young Adult  \n",
      "4   44  Other  Middle-aged Adult  \n"
     ]
    }
   ],
   "source": [
    "# Read and preview the Parquet file\n",
    "preview_df = pd.read_parquet('full_data.parquet')\n",
    "print(preview_df.head())"
   ]
  },
  {
   "cell_type": "markdown",
   "id": "20f5c920",
   "metadata": {},
   "source": [
    "#### *Incremental_data*"
   ]
  },
  {
   "cell_type": "code",
   "execution_count": 20,
   "id": "f368a99f",
   "metadata": {},
   "outputs": [
    {
     "name": "stdout",
     "output_type": "stream",
     "text": [
      "   patient_id         hospital admission_date  severity         last_updated  \\\n",
      "0           1      City Clinic     2025-04-20  Critical  2025-04-20 18:39:00   \n",
      "1           2  County Hospital     2025-04-20       Low  2025-04-20 16:12:00   \n",
      "2           3       St. Mary’s     2025-04-20  Critical  2025-04-20 14:50:00   \n",
      "3           4    Mercy Medical     2025-04-20      High  2025-04-20 15:35:00   \n",
      "4           5    Mercy Medical     2025-04-21      High  2025-04-21 08:14:00   \n",
      "\n",
      "   age  gender          age_group  \n",
      "0   41   Other  Middle-aged Adult  \n",
      "1   33  Female        Young Adult  \n",
      "2   10    Male              Child  \n",
      "3    2    Male              Child  \n",
      "4   54   Other       Senior Adult  \n"
     ]
    }
   ],
   "source": [
    "# Read and preview the Parquet file\n",
    "preview_df = pd.read_parquet('incremental_data.parquet')\n",
    "print(preview_df.head())"
   ]
  }
 ],
 "metadata": {
  "kernelspec": {
   "display_name": "Python 3",
   "language": "python",
   "name": "python3"
  },
  "language_info": {
   "codemirror_mode": {
    "name": "ipython",
    "version": 3
   },
   "file_extension": ".py",
   "mimetype": "text/x-python",
   "name": "python",
   "nbconvert_exporter": "python",
   "pygments_lexer": "ipython3",
   "version": "3.12.10"
  }
 },
 "nbformat": 4,
 "nbformat_minor": 5
}
