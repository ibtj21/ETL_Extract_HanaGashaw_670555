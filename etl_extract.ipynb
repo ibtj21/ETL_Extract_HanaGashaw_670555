{
 "cells": [
  {
   "cell_type": "markdown",
   "id": "b2c9fd5c",
   "metadata": {},
   "source": [
    "### **Full, Incremental Extraction, and Transformation Using simulated Hospital Admissions Data**"
   ]
  },
  {
   "cell_type": "markdown",
   "id": "47c2bbbc",
   "metadata": {},
   "source": [
    "##### **Import necessary libraries**"
   ]
  },
  {
   "cell_type": "code",
   "execution_count": 1657,
   "id": "f534dd8e",
   "metadata": {},
   "outputs": [],
   "source": [
    "import pandas as pd\n",
    "import numpy as np\n",
    "from datetime import datetime, timedelta\n",
    "import random"
   ]
  },
  {
   "cell_type": "markdown",
   "id": "c1e92914",
   "metadata": {},
   "source": [
    "#### **Hospital Admissions Data Simulation**\n",
    "In the following code:\n",
    "\n",
    "- A realistic hospital admissions dataset is simulated over a 60-day period starting April 1, 2025.  \n",
    "- Hospitals and patient severity levels are predefined for random assignment to each admission.  \n",
    "- For each day, between 3 and 6 admissions are generated.\n",
    "- Records between 180 & 360(inclusive) are expected .\n",
    "- Each admission is assigned a random patient ID, hospital, severity level, and a last updated timestamp with a random hour and minute on the admission date.  \n",
    "- All records are stored in a list of dictionaries.  \n",
    "- The list is converted into a Pandas DataFrame for easier data handling.  \n",
    "- The DataFrame is saved as a CSV file named `'hospital_admissions.csv'`.  \n",
    "- A preview of the first few rows is displayed to verify the structure and content of the data.\n"
   ]
  },
  {
   "cell_type": "code",
   "execution_count": 1658,
   "id": "99071a23",
   "metadata": {},
   "outputs": [
    {
     "data": {
      "application/vnd.microsoft.datawrangler.viewer.v0+json": {
       "columns": [
        {
         "name": "index",
         "rawType": "int64",
         "type": "integer"
        },
        {
         "name": "id",
         "rawType": "int64",
         "type": "integer"
        },
        {
         "name": "hospital",
         "rawType": "object",
         "type": "string"
        },
        {
         "name": "admission_date",
         "rawType": "object",
         "type": "string"
        },
        {
         "name": "severity",
         "rawType": "object",
         "type": "string"
        },
        {
         "name": "last_updated",
         "rawType": "object",
         "type": "string"
        },
        {
         "name": "age",
         "rawType": "float64",
         "type": "float"
        },
        {
         "name": "gender",
         "rawType": "object",
         "type": "unknown"
        }
       ],
       "ref": "ff862ea8-e3df-4215-9371-92edfaeb03f6",
       "rows": [
        [
         "0",
         "2679",
         "County Hospital",
         "2025-04-02",
         "Low",
         "2025-04-02T18:27:00",
         "3.0",
         "Other"
        ],
        [
         "1",
         "1434",
         "County Hospital",
         "2025-04-02",
         "Moderate",
         "2025-04-02T22:41:00",
         null,
         "Male"
        ],
        [
         "2",
         "5557",
         "General Hospital",
         "2025-04-02",
         "Moderate",
         "2025-04-02T22:27:00",
         "89.0",
         "Other"
        ],
        [
         "3",
         "2674",
         "General Hospital",
         "2025-04-03",
         "Critical",
         "2025-04-03T03:22:00",
         "35.0",
         "Male"
        ],
        [
         "4",
         "8527",
         "County Hospital",
         "2025-04-03",
         "Low",
         "2025-04-03T12:05:00",
         "44.0",
         null
        ]
       ],
       "shape": {
        "columns": 7,
        "rows": 5
       }
      },
      "text/html": [
       "<div>\n",
       "<style scoped>\n",
       "    .dataframe tbody tr th:only-of-type {\n",
       "        vertical-align: middle;\n",
       "    }\n",
       "\n",
       "    .dataframe tbody tr th {\n",
       "        vertical-align: top;\n",
       "    }\n",
       "\n",
       "    .dataframe thead th {\n",
       "        text-align: right;\n",
       "    }\n",
       "</style>\n",
       "<table border=\"1\" class=\"dataframe\">\n",
       "  <thead>\n",
       "    <tr style=\"text-align: right;\">\n",
       "      <th></th>\n",
       "      <th>id</th>\n",
       "      <th>hospital</th>\n",
       "      <th>admission_date</th>\n",
       "      <th>severity</th>\n",
       "      <th>last_updated</th>\n",
       "      <th>age</th>\n",
       "      <th>gender</th>\n",
       "    </tr>\n",
       "  </thead>\n",
       "  <tbody>\n",
       "    <tr>\n",
       "      <th>0</th>\n",
       "      <td>2679</td>\n",
       "      <td>County Hospital</td>\n",
       "      <td>2025-04-02</td>\n",
       "      <td>Low</td>\n",
       "      <td>2025-04-02T18:27:00</td>\n",
       "      <td>3.0</td>\n",
       "      <td>Other</td>\n",
       "    </tr>\n",
       "    <tr>\n",
       "      <th>1</th>\n",
       "      <td>1434</td>\n",
       "      <td>County Hospital</td>\n",
       "      <td>2025-04-02</td>\n",
       "      <td>Moderate</td>\n",
       "      <td>2025-04-02T22:41:00</td>\n",
       "      <td>NaN</td>\n",
       "      <td>Male</td>\n",
       "    </tr>\n",
       "    <tr>\n",
       "      <th>2</th>\n",
       "      <td>5557</td>\n",
       "      <td>General Hospital</td>\n",
       "      <td>2025-04-02</td>\n",
       "      <td>Moderate</td>\n",
       "      <td>2025-04-02T22:27:00</td>\n",
       "      <td>89.0</td>\n",
       "      <td>Other</td>\n",
       "    </tr>\n",
       "    <tr>\n",
       "      <th>3</th>\n",
       "      <td>2674</td>\n",
       "      <td>General Hospital</td>\n",
       "      <td>2025-04-03</td>\n",
       "      <td>Critical</td>\n",
       "      <td>2025-04-03T03:22:00</td>\n",
       "      <td>35.0</td>\n",
       "      <td>Male</td>\n",
       "    </tr>\n",
       "    <tr>\n",
       "      <th>4</th>\n",
       "      <td>8527</td>\n",
       "      <td>County Hospital</td>\n",
       "      <td>2025-04-03</td>\n",
       "      <td>Low</td>\n",
       "      <td>2025-04-03T12:05:00</td>\n",
       "      <td>44.0</td>\n",
       "      <td>None</td>\n",
       "    </tr>\n",
       "  </tbody>\n",
       "</table>\n",
       "</div>"
      ],
      "text/plain": [
       "     id          hospital admission_date  severity         last_updated   age  \\\n",
       "0  2679   County Hospital     2025-04-02       Low  2025-04-02T18:27:00   3.0   \n",
       "1  1434   County Hospital     2025-04-02  Moderate  2025-04-02T22:41:00   NaN   \n",
       "2  5557  General Hospital     2025-04-02  Moderate  2025-04-02T22:27:00  89.0   \n",
       "3  2674  General Hospital     2025-04-03  Critical  2025-04-03T03:22:00  35.0   \n",
       "4  8527   County Hospital     2025-04-03       Low  2025-04-03T12:05:00  44.0   \n",
       "\n",
       "  gender  \n",
       "0  Other  \n",
       "1   Male  \n",
       "2  Other  \n",
       "3   Male  \n",
       "4   None  "
      ]
     },
     "execution_count": 1658,
     "metadata": {},
     "output_type": "execute_result"
    }
   ],
   "source": [
    "import pandas as pd\n",
    "import random\n",
    "from datetime import datetime, timedelta\n",
    "import numpy as np\n",
    "\n",
    "# Set random seed for reproducibility\n",
    "random.seed(42)\n",
    "np.random.seed(42)\n",
    "\n",
    "# Define hospital and severity level options\n",
    "hospitals = ['General Hospital', 'City Clinic', 'Mercy Medical', 'St. Mary’s', 'County Hospital']\n",
    "severity_levels = ['Low', 'Moderate', 'High', 'Critical']\n",
    "genders = ['Male', 'Female', 'Other']\n",
    "\n",
    "data = []\n",
    "start_date = datetime(2025, 4, 1)\n",
    "\n",
    "# Simulate data for 60 days\n",
    "for i in range(1, 61):\n",
    "    date = start_date + timedelta(days=i)\n",
    "    \n",
    "    # Random 3–6 admissions per day\n",
    "    for _ in range(random.randint(3, 6)):\n",
    "        age = random.randint(0, 100)\n",
    "        gender = random.choice(genders)\n",
    "        \n",
    "        # Introduce missing values randomly (10% chance)\n",
    "        if random.random() < 0.1:\n",
    "            age = None\n",
    "        if random.random() < 0.1:\n",
    "            gender = None\n",
    "\n",
    "        data.append({\n",
    "            'id': random.randint(1000, 9999),\n",
    "            'hospital': random.choice(hospitals),\n",
    "            'admission_date': date.date().isoformat(),\n",
    "            'severity': random.choice(severity_levels),\n",
    "            'last_updated': (date + timedelta(\n",
    "                hours=random.randint(0, 23),\n",
    "                minutes=random.randint(0, 59)\n",
    "            )).isoformat(),\n",
    "            'age': age,\n",
    "            'gender': gender\n",
    "        })\n",
    "\n",
    "# Create DataFrame\n",
    "df = pd.DataFrame(data)\n",
    "\n",
    "# Save to CSV\n",
    "df.to_csv('hospital_admissions.csv', index=False)\n",
    "\n",
    "# Preview first few rows\n",
    "df.head()\n"
   ]
  },
  {
   "cell_type": "markdown",
   "id": "e83b1b1f",
   "metadata": {},
   "source": [
    "## Extraction"
   ]
  },
  {
   "cell_type": "markdown",
   "id": "0f3f6b5b",
   "metadata": {},
   "source": [
    "#### **Full Extraction**\n",
    "In the following code:\n",
    "- The entire dataset is loaded from the CSV file `'hospital_admissions.csv'` with the `'last_updated'` column parsed as datetime.  \n",
    "- The number of rows and columns in the dataset is displayed separately to give a detailed overview of its dimensions.  \n",
    "- The total number of rows pulled is reiterated for clarity.  \n",
    "- A sample of the first few rows is printed to verify the data content and structure.\n",
    "\n"
   ]
  },
  {
   "cell_type": "code",
   "execution_count": 1659,
   "id": "1ab1d2ff",
   "metadata": {},
   "outputs": [
    {
     "name": "stdout",
     "output_type": "stream",
     "text": [
      "Number of rows: 274\n",
      "Number of columns: 7\n",
      "Pulled 274 rows via full extraction.\n",
      "Sample data:\n"
     ]
    },
    {
     "data": {
      "application/vnd.microsoft.datawrangler.viewer.v0+json": {
       "columns": [
        {
         "name": "index",
         "rawType": "int64",
         "type": "integer"
        },
        {
         "name": "id",
         "rawType": "int64",
         "type": "integer"
        },
        {
         "name": "hospital",
         "rawType": "object",
         "type": "string"
        },
        {
         "name": "admission_date",
         "rawType": "object",
         "type": "string"
        },
        {
         "name": "severity",
         "rawType": "object",
         "type": "string"
        },
        {
         "name": "last_updated",
         "rawType": "datetime64[ns]",
         "type": "datetime"
        },
        {
         "name": "age",
         "rawType": "float64",
         "type": "float"
        },
        {
         "name": "gender",
         "rawType": "object",
         "type": "unknown"
        }
       ],
       "ref": "d7b1709f-6e28-443e-8661-f294a0bbb403",
       "rows": [
        [
         "0",
         "2679",
         "County Hospital",
         "2025-04-02",
         "Low",
         "2025-04-02 18:27:00",
         "3.0",
         "Other"
        ],
        [
         "1",
         "1434",
         "County Hospital",
         "2025-04-02",
         "Moderate",
         "2025-04-02 22:41:00",
         null,
         "Male"
        ],
        [
         "2",
         "5557",
         "General Hospital",
         "2025-04-02",
         "Moderate",
         "2025-04-02 22:27:00",
         "89.0",
         "Other"
        ],
        [
         "3",
         "2674",
         "General Hospital",
         "2025-04-03",
         "Critical",
         "2025-04-03 03:22:00",
         "35.0",
         "Male"
        ],
        [
         "4",
         "8527",
         "County Hospital",
         "2025-04-03",
         "Low",
         "2025-04-03 12:05:00",
         "44.0",
         null
        ]
       ],
       "shape": {
        "columns": 7,
        "rows": 5
       }
      },
      "text/html": [
       "<div>\n",
       "<style scoped>\n",
       "    .dataframe tbody tr th:only-of-type {\n",
       "        vertical-align: middle;\n",
       "    }\n",
       "\n",
       "    .dataframe tbody tr th {\n",
       "        vertical-align: top;\n",
       "    }\n",
       "\n",
       "    .dataframe thead th {\n",
       "        text-align: right;\n",
       "    }\n",
       "</style>\n",
       "<table border=\"1\" class=\"dataframe\">\n",
       "  <thead>\n",
       "    <tr style=\"text-align: right;\">\n",
       "      <th></th>\n",
       "      <th>id</th>\n",
       "      <th>hospital</th>\n",
       "      <th>admission_date</th>\n",
       "      <th>severity</th>\n",
       "      <th>last_updated</th>\n",
       "      <th>age</th>\n",
       "      <th>gender</th>\n",
       "    </tr>\n",
       "  </thead>\n",
       "  <tbody>\n",
       "    <tr>\n",
       "      <th>0</th>\n",
       "      <td>2679</td>\n",
       "      <td>County Hospital</td>\n",
       "      <td>2025-04-02</td>\n",
       "      <td>Low</td>\n",
       "      <td>2025-04-02 18:27:00</td>\n",
       "      <td>3.0</td>\n",
       "      <td>Other</td>\n",
       "    </tr>\n",
       "    <tr>\n",
       "      <th>1</th>\n",
       "      <td>1434</td>\n",
       "      <td>County Hospital</td>\n",
       "      <td>2025-04-02</td>\n",
       "      <td>Moderate</td>\n",
       "      <td>2025-04-02 22:41:00</td>\n",
       "      <td>NaN</td>\n",
       "      <td>Male</td>\n",
       "    </tr>\n",
       "    <tr>\n",
       "      <th>2</th>\n",
       "      <td>5557</td>\n",
       "      <td>General Hospital</td>\n",
       "      <td>2025-04-02</td>\n",
       "      <td>Moderate</td>\n",
       "      <td>2025-04-02 22:27:00</td>\n",
       "      <td>89.0</td>\n",
       "      <td>Other</td>\n",
       "    </tr>\n",
       "    <tr>\n",
       "      <th>3</th>\n",
       "      <td>2674</td>\n",
       "      <td>General Hospital</td>\n",
       "      <td>2025-04-03</td>\n",
       "      <td>Critical</td>\n",
       "      <td>2025-04-03 03:22:00</td>\n",
       "      <td>35.0</td>\n",
       "      <td>Male</td>\n",
       "    </tr>\n",
       "    <tr>\n",
       "      <th>4</th>\n",
       "      <td>8527</td>\n",
       "      <td>County Hospital</td>\n",
       "      <td>2025-04-03</td>\n",
       "      <td>Low</td>\n",
       "      <td>2025-04-03 12:05:00</td>\n",
       "      <td>44.0</td>\n",
       "      <td>NaN</td>\n",
       "    </tr>\n",
       "  </tbody>\n",
       "</table>\n",
       "</div>"
      ],
      "text/plain": [
       "     id          hospital admission_date  severity        last_updated   age  \\\n",
       "0  2679   County Hospital     2025-04-02       Low 2025-04-02 18:27:00   3.0   \n",
       "1  1434   County Hospital     2025-04-02  Moderate 2025-04-02 22:41:00   NaN   \n",
       "2  5557  General Hospital     2025-04-02  Moderate 2025-04-02 22:27:00  89.0   \n",
       "3  2674  General Hospital     2025-04-03  Critical 2025-04-03 03:22:00  35.0   \n",
       "4  8527   County Hospital     2025-04-03       Low 2025-04-03 12:05:00  44.0   \n",
       "\n",
       "  gender  \n",
       "0  Other  \n",
       "1   Male  \n",
       "2  Other  \n",
       "3   Male  \n",
       "4    NaN  "
      ]
     },
     "execution_count": 1659,
     "metadata": {},
     "output_type": "execute_result"
    }
   ],
   "source": [
    "import pandas as pd\n",
    "\n",
    "# Load all rows from the CSV and parse 'last_updated' as datetime\n",
    "df_full = pd.read_csv(\"hospital_admissions.csv\", parse_dates=[\"last_updated\"])\n",
    "\n",
    "print(f\"Number of rows: {df_full.shape[0]}\")    # Rows\n",
    "print(f\"Number of columns: {df_full.shape[1]}\") # Columns\n",
    "\n",
    "# Show how many records were pulled\n",
    "print(f\"Pulled {df_full.shape[0]} rows via full extraction.\")\n",
    "\n",
    "print(\"Sample data:\")\n",
    "df_full.head()\n"
   ]
  },
  {
   "cell_type": "markdown",
   "id": "bebc9b85",
   "metadata": {},
   "source": [
    "#### **Setting Initial Last Extraction Time**\n",
    "In the following code:\n",
    "  \n",
    "- A fixed datetime string `\"2025-04-20 12:00:00\"` is written into a file last_extraction.txt (separately created) to simulate the last time data was extracted.  \n",
    "- This timestamp serves as a reference point for future incremental data extraction processes.\n"
   ]
  },
  {
   "cell_type": "code",
   "execution_count": 1660,
   "id": "275944f8",
   "metadata": {},
   "outputs": [],
   "source": [
    "# Set initial last extraction time \n",
    "with open(\"last_extraction.txt\", \"w\") as f:\n",
    "    f.write(\"2025-04-20 12:00:00\") "
   ]
  },
  {
   "cell_type": "markdown",
   "id": "5a2a9621",
   "metadata": {},
   "source": [
    "#### **Incremental Extraction**\n",
    "In the following code:\n",
    "\n",
    "- The last extraction timestamp is read from the file `'last_extraction.txt'` and any extra whitespace is  using strip() function.  \n",
    "- The full dataset is loaded from `'hospital_admissions.csv'` with the `'last_updated'` column parsed as datetime.  \n",
    "- The timestamp from the file is converted into a pandas datetime object for comparison.  \n",
    "- The dataset is filtered to include only rows where the `'last_updated'` timestamp is later than the last extraction time, simulating incremental extraction.  \n",
    "- The number of new or updated rows since the last extraction is displayed.  \n",
    "- A sample of these new/updated records is shown for verification.\n"
   ]
  },
  {
   "cell_type": "code",
   "execution_count": 1661,
   "id": "b47a320a",
   "metadata": {},
   "outputs": [
    {
     "name": "stdout",
     "output_type": "stream",
     "text": [
      "Pulled 198 new/updated rows since 2025-04-20 12:00:00.\n"
     ]
    },
    {
     "data": {
      "application/vnd.microsoft.datawrangler.viewer.v0+json": {
       "columns": [
        {
         "name": "index",
         "rawType": "int64",
         "type": "integer"
        },
        {
         "name": "id",
         "rawType": "int64",
         "type": "integer"
        },
        {
         "name": "hospital",
         "rawType": "object",
         "type": "string"
        },
        {
         "name": "admission_date",
         "rawType": "object",
         "type": "string"
        },
        {
         "name": "severity",
         "rawType": "object",
         "type": "string"
        },
        {
         "name": "last_updated",
         "rawType": "datetime64[ns]",
         "type": "datetime"
        },
        {
         "name": "age",
         "rawType": "float64",
         "type": "float"
        },
        {
         "name": "gender",
         "rawType": "object",
         "type": "unknown"
        }
       ],
       "ref": "d2e4712d-d599-4c83-b37b-5b7940074e4d",
       "rows": [
        [
         "75",
         "8385",
         "City Clinic",
         "2025-04-20",
         "Critical",
         "2025-04-20 18:39:00",
         "41.0",
         null
        ],
        [
         "77",
         "5526",
         "County Hospital",
         "2025-04-20",
         "Low",
         "2025-04-20 16:12:00",
         "33.0",
         "Female"
        ],
        [
         "78",
         "4937",
         "St. Mary’s",
         "2025-04-20",
         "Critical",
         "2025-04-20 14:50:00",
         "10.0",
         "Male"
        ],
        [
         "79",
         "4986",
         "Mercy Medical",
         "2025-04-20",
         "High",
         "2025-04-20 15:35:00",
         "2.0",
         "Male"
        ],
        [
         "80",
         "8434",
         "Mercy Medical",
         "2025-04-21",
         "High",
         "2025-04-21 08:14:00",
         "54.0",
         "Other"
        ]
       ],
       "shape": {
        "columns": 7,
        "rows": 5
       }
      },
      "text/html": [
       "<div>\n",
       "<style scoped>\n",
       "    .dataframe tbody tr th:only-of-type {\n",
       "        vertical-align: middle;\n",
       "    }\n",
       "\n",
       "    .dataframe tbody tr th {\n",
       "        vertical-align: top;\n",
       "    }\n",
       "\n",
       "    .dataframe thead th {\n",
       "        text-align: right;\n",
       "    }\n",
       "</style>\n",
       "<table border=\"1\" class=\"dataframe\">\n",
       "  <thead>\n",
       "    <tr style=\"text-align: right;\">\n",
       "      <th></th>\n",
       "      <th>id</th>\n",
       "      <th>hospital</th>\n",
       "      <th>admission_date</th>\n",
       "      <th>severity</th>\n",
       "      <th>last_updated</th>\n",
       "      <th>age</th>\n",
       "      <th>gender</th>\n",
       "    </tr>\n",
       "  </thead>\n",
       "  <tbody>\n",
       "    <tr>\n",
       "      <th>75</th>\n",
       "      <td>8385</td>\n",
       "      <td>City Clinic</td>\n",
       "      <td>2025-04-20</td>\n",
       "      <td>Critical</td>\n",
       "      <td>2025-04-20 18:39:00</td>\n",
       "      <td>41.0</td>\n",
       "      <td>NaN</td>\n",
       "    </tr>\n",
       "    <tr>\n",
       "      <th>77</th>\n",
       "      <td>5526</td>\n",
       "      <td>County Hospital</td>\n",
       "      <td>2025-04-20</td>\n",
       "      <td>Low</td>\n",
       "      <td>2025-04-20 16:12:00</td>\n",
       "      <td>33.0</td>\n",
       "      <td>Female</td>\n",
       "    </tr>\n",
       "    <tr>\n",
       "      <th>78</th>\n",
       "      <td>4937</td>\n",
       "      <td>St. Mary’s</td>\n",
       "      <td>2025-04-20</td>\n",
       "      <td>Critical</td>\n",
       "      <td>2025-04-20 14:50:00</td>\n",
       "      <td>10.0</td>\n",
       "      <td>Male</td>\n",
       "    </tr>\n",
       "    <tr>\n",
       "      <th>79</th>\n",
       "      <td>4986</td>\n",
       "      <td>Mercy Medical</td>\n",
       "      <td>2025-04-20</td>\n",
       "      <td>High</td>\n",
       "      <td>2025-04-20 15:35:00</td>\n",
       "      <td>2.0</td>\n",
       "      <td>Male</td>\n",
       "    </tr>\n",
       "    <tr>\n",
       "      <th>80</th>\n",
       "      <td>8434</td>\n",
       "      <td>Mercy Medical</td>\n",
       "      <td>2025-04-21</td>\n",
       "      <td>High</td>\n",
       "      <td>2025-04-21 08:14:00</td>\n",
       "      <td>54.0</td>\n",
       "      <td>Other</td>\n",
       "    </tr>\n",
       "  </tbody>\n",
       "</table>\n",
       "</div>"
      ],
      "text/plain": [
       "      id         hospital admission_date  severity        last_updated   age  \\\n",
       "75  8385      City Clinic     2025-04-20  Critical 2025-04-20 18:39:00  41.0   \n",
       "77  5526  County Hospital     2025-04-20       Low 2025-04-20 16:12:00  33.0   \n",
       "78  4937       St. Mary’s     2025-04-20  Critical 2025-04-20 14:50:00  10.0   \n",
       "79  4986    Mercy Medical     2025-04-20      High 2025-04-20 15:35:00   2.0   \n",
       "80  8434    Mercy Medical     2025-04-21      High 2025-04-21 08:14:00  54.0   \n",
       "\n",
       "    gender  \n",
       "75     NaN  \n",
       "77  Female  \n",
       "78    Male  \n",
       "79    Male  \n",
       "80   Other  "
      ]
     },
     "execution_count": 1661,
     "metadata": {},
     "output_type": "execute_result"
    }
   ],
   "source": [
    "import pandas as pd\n",
    "\n",
    "# Step 1: Read the last extraction timestamp from the text file\n",
    "with open(\"last_extraction.txt\", \"r\") as f:\n",
    "    last_extraction = f.read().strip()\n",
    "\n",
    "# Step 2: Load the full dataset and parse 'last_updated' as datetime\n",
    "df = pd.read_csv(\"hospital_admissions.csv\", parse_dates=[\"last_updated\"])\n",
    "\n",
    "# Step 3: Convert the last extraction time to datetime format\n",
    "last_extraction_time = pd.to_datetime(last_extraction)\n",
    "\n",
    "# Step 4: Filter rows that were updated after the last extraction time\n",
    "df_incremental = df[df['last_updated'] > last_extraction_time]\n",
    "\n",
    "# Step 5 : Save the incremental data to a new CSV file\n",
    "df_incremental.to_csv(\"hospital_admission_incremental.csv\", index=False)\n",
    "\n",
    "\n",
    "# Step : Display results\n",
    "print(f\"Pulled {len(df_incremental)} new/updated rows since {last_extraction}.\")\n",
    "df_incremental.head()\n"
   ]
  },
  {
   "cell_type": "markdown",
   "id": "08a0ceb0",
   "metadata": {},
   "source": [
    "#### **Updating the Last Extraction Timestamp**\n",
    "In this code:\n",
    "\n",
    "- The most recent `'last_updated'` timestamp in the current dataset is identified as the new checkpoint.  \n",
    "- This new checkpoint timestamp is saved to the `'last_extraction.txt'` file, overwriting the previous value.  \n",
    "- A confirmation message is printed to indicate that the last extraction timestamp has been updated successfully.\n"
   ]
  },
  {
   "cell_type": "code",
   "execution_count": 1662,
   "id": "6cc8bb45",
   "metadata": {},
   "outputs": [
    {
     "name": "stdout",
     "output_type": "stream",
     "text": [
      "Updated last_extraction.txt to 2025-05-31 22:38:00\n"
     ]
    }
   ],
   "source": [
    "# Step 1: Get the latest timestamp from the data\n",
    "new_checkpoint = df['last_updated'].max()\n",
    "\n",
    "# Step 2: Save this new checkpoint to the extraction file\n",
    "with open(\"last_extraction.txt\", \"w\") as f:\n",
    "    f.write(new_checkpoint.isoformat())\n",
    "\n",
    "# Step 3: Confirm the update\n",
    "print(f\"Updated last_extraction.txt to {new_checkpoint}\")\n"
   ]
  },
  {
   "cell_type": "markdown",
   "id": "b973d472",
   "metadata": {},
   "source": [
    "## Transformation"
   ]
  },
  {
   "cell_type": "markdown",
   "id": "910f5e23",
   "metadata": {},
   "source": [
    "### **Full data**"
   ]
  },
  {
   "cell_type": "markdown",
   "id": "45f89916",
   "metadata": {},
   "source": [
    "#### *Data Cleaning*"
   ]
  },
  {
   "cell_type": "code",
   "execution_count": 1663,
   "id": "510841b4",
   "metadata": {},
   "outputs": [
    {
     "name": "stdout",
     "output_type": "stream",
     "text": [
      "<class 'pandas.core.frame.DataFrame'>\n",
      "RangeIndex: 274 entries, 0 to 273\n",
      "Data columns (total 7 columns):\n",
      " #   Column          Non-Null Count  Dtype         \n",
      "---  ------          --------------  -----         \n",
      " 0   id              274 non-null    int64         \n",
      " 1   hospital        274 non-null    object        \n",
      " 2   admission_date  274 non-null    object        \n",
      " 3   severity        274 non-null    object        \n",
      " 4   last_updated    274 non-null    datetime64[ns]\n",
      " 5   age             243 non-null    float64       \n",
      " 6   gender          252 non-null    object        \n",
      "dtypes: datetime64[ns](1), float64(1), int64(1), object(4)\n",
      "memory usage: 15.1+ KB\n"
     ]
    }
   ],
   "source": [
    "df_full.info()"
   ]
  },
  {
   "cell_type": "code",
   "execution_count": 1664,
   "id": "0f776ec1",
   "metadata": {},
   "outputs": [
    {
     "data": {
      "text/plain": [
       "0"
      ]
     },
     "execution_count": 1664,
     "metadata": {},
     "output_type": "execute_result"
    }
   ],
   "source": [
    "df_full.duplicated().sum()"
   ]
  },
  {
   "cell_type": "markdown",
   "id": "78c6a2e8",
   "metadata": {},
   "source": [
    "___\n",
    "Presence of duplicated values was checked,but not found.\n",
    "___"
   ]
  },
  {
   "cell_type": "code",
   "execution_count": 1665,
   "id": "4d42a5c7",
   "metadata": {},
   "outputs": [
    {
     "data": {
      "application/vnd.microsoft.datawrangler.viewer.v0+json": {
       "columns": [
        {
         "name": "index",
         "rawType": "object",
         "type": "string"
        },
        {
         "name": "0",
         "rawType": "int64",
         "type": "integer"
        }
       ],
       "ref": "a4511a66-d711-4e10-8f6d-500de0c56151",
       "rows": [
        [
         "id",
         "0"
        ],
        [
         "hospital",
         "0"
        ],
        [
         "admission_date",
         "0"
        ],
        [
         "severity",
         "0"
        ],
        [
         "last_updated",
         "0"
        ],
        [
         "age",
         "31"
        ],
        [
         "gender",
         "22"
        ]
       ],
       "shape": {
        "columns": 1,
        "rows": 7
       }
      },
      "text/plain": [
       "id                 0\n",
       "hospital           0\n",
       "admission_date     0\n",
       "severity           0\n",
       "last_updated       0\n",
       "age               31\n",
       "gender            22\n",
       "dtype: int64"
      ]
     },
     "execution_count": 1665,
     "metadata": {},
     "output_type": "execute_result"
    }
   ],
   "source": [
    "df_full.isnull().sum()"
   ]
  },
  {
   "cell_type": "code",
   "execution_count": 1666,
   "id": "65a4e86f",
   "metadata": {},
   "outputs": [],
   "source": [
    "df_full[\"age\"]=df_full[\"age\"].fillna(df_full[\"age\"].mean())"
   ]
  },
  {
   "cell_type": "code",
   "execution_count": 1667,
   "id": "91b3ef50",
   "metadata": {},
   "outputs": [],
   "source": [
    "df_full[\"gender\"] = df_full[\"gender\"].fillna(df_full[\"gender\"].mode()[0])"
   ]
  },
  {
   "cell_type": "code",
   "execution_count": 1668,
   "id": "d6aa1d16",
   "metadata": {},
   "outputs": [
    {
     "data": {
      "application/vnd.microsoft.datawrangler.viewer.v0+json": {
       "columns": [
        {
         "name": "index",
         "rawType": "object",
         "type": "string"
        },
        {
         "name": "0",
         "rawType": "int64",
         "type": "integer"
        }
       ],
       "ref": "e4b3ff12-2ff2-490f-8535-4a9540e52a4f",
       "rows": [
        [
         "id",
         "0"
        ],
        [
         "hospital",
         "0"
        ],
        [
         "admission_date",
         "0"
        ],
        [
         "severity",
         "0"
        ],
        [
         "last_updated",
         "0"
        ],
        [
         "age",
         "0"
        ],
        [
         "gender",
         "0"
        ]
       ],
       "shape": {
        "columns": 1,
        "rows": 7
       }
      },
      "text/plain": [
       "id                0\n",
       "hospital          0\n",
       "admission_date    0\n",
       "severity          0\n",
       "last_updated      0\n",
       "age               0\n",
       "gender            0\n",
       "dtype: int64"
      ]
     },
     "execution_count": 1668,
     "metadata": {},
     "output_type": "execute_result"
    }
   ],
   "source": [
    "df_full.isnull().sum()"
   ]
  },
  {
   "cell_type": "code",
   "execution_count": 1669,
   "id": "18e46e51",
   "metadata": {},
   "outputs": [],
   "source": [
    "df_full['admission_date'] = pd.to_datetime(df_full['admission_date'])\n",
    "df_full['age'] = df_full['age'].astype(int)"
   ]
  },
  {
   "cell_type": "code",
   "execution_count": 1670,
   "id": "c42386c4",
   "metadata": {},
   "outputs": [
    {
     "name": "stdout",
     "output_type": "stream",
     "text": [
      "<class 'pandas.core.frame.DataFrame'>\n",
      "RangeIndex: 274 entries, 0 to 273\n",
      "Data columns (total 7 columns):\n",
      " #   Column          Non-Null Count  Dtype         \n",
      "---  ------          --------------  -----         \n",
      " 0   id              274 non-null    int64         \n",
      " 1   hospital        274 non-null    object        \n",
      " 2   admission_date  274 non-null    datetime64[ns]\n",
      " 3   severity        274 non-null    object        \n",
      " 4   last_updated    274 non-null    datetime64[ns]\n",
      " 5   age             274 non-null    int32         \n",
      " 6   gender          274 non-null    object        \n",
      "dtypes: datetime64[ns](2), int32(1), int64(1), object(3)\n",
      "memory usage: 14.0+ KB\n"
     ]
    }
   ],
   "source": [
    "df_full.info()"
   ]
  },
  {
   "cell_type": "markdown",
   "id": "495fe8b0",
   "metadata": {},
   "source": [
    "___  \n",
    "##### Data Cleaning Summary\n",
    "\n",
    "**What was done:**\n",
    "- Missing values in the `\"age\"` column were filled using the mean value.\n",
    "- Missing values in the `\"gender\"` column were filled using the mode (most frequent value).\n",
    "- The data type for `\"age\"` was converted from float to integer.\n",
    "- The data type for `\"admission_date\"` was converted from object (string) to datetime.\n",
    "\n",
    "**Importance:**\n",
    "-  **Ensures Data Consistency**: Filling in missing values and correcting data types prevents errors during analysis and ensures uniform data.\n",
    "-  **Enables Accurate Aggregation & Filtering**: Proper data types (like datetime) allow for time-based analysis, sorting, and grouping.\n",
    "-  **Improves Data Quality**: Handling missing values and formatting ensures the dataset is complete and ready for reliable analysis and modeling.\n",
    "___\n"
   ]
  },
  {
   "cell_type": "markdown",
   "id": "b55cab68",
   "metadata": {},
   "source": [
    "### *Key Restructuring*"
   ]
  },
  {
   "cell_type": "code",
   "execution_count": 1671,
   "id": "d5869c2c",
   "metadata": {},
   "outputs": [
    {
     "data": {
      "application/vnd.microsoft.datawrangler.viewer.v0+json": {
       "columns": [
        {
         "name": "index",
         "rawType": "int64",
         "type": "integer"
        },
        {
         "name": "patient_id",
         "rawType": "int64",
         "type": "integer"
        },
        {
         "name": "hospital",
         "rawType": "object",
         "type": "string"
        },
        {
         "name": "admission_date",
         "rawType": "datetime64[ns]",
         "type": "datetime"
        },
        {
         "name": "severity",
         "rawType": "object",
         "type": "string"
        },
        {
         "name": "last_updated",
         "rawType": "datetime64[ns]",
         "type": "datetime"
        },
        {
         "name": "age",
         "rawType": "int32",
         "type": "integer"
        },
        {
         "name": "gender",
         "rawType": "object",
         "type": "string"
        }
       ],
       "ref": "153a24d7-1640-419c-a486-9c54a612fefe",
       "rows": [
        [
         "0",
         "1",
         "County Hospital",
         "2025-04-02 00:00:00",
         "Low",
         "2025-04-02 18:27:00",
         "3",
         "Other"
        ],
        [
         "1",
         "2",
         "County Hospital",
         "2025-04-02 00:00:00",
         "Moderate",
         "2025-04-02 22:41:00",
         "48",
         "Male"
        ],
        [
         "2",
         "3",
         "General Hospital",
         "2025-04-02 00:00:00",
         "Moderate",
         "2025-04-02 22:27:00",
         "89",
         "Other"
        ],
        [
         "3",
         "4",
         "General Hospital",
         "2025-04-03 00:00:00",
         "Critical",
         "2025-04-03 03:22:00",
         "35",
         "Male"
        ],
        [
         "4",
         "5",
         "County Hospital",
         "2025-04-03 00:00:00",
         "Low",
         "2025-04-03 12:05:00",
         "44",
         "Other"
        ]
       ],
       "shape": {
        "columns": 7,
        "rows": 5
       }
      },
      "text/html": [
       "<div>\n",
       "<style scoped>\n",
       "    .dataframe tbody tr th:only-of-type {\n",
       "        vertical-align: middle;\n",
       "    }\n",
       "\n",
       "    .dataframe tbody tr th {\n",
       "        vertical-align: top;\n",
       "    }\n",
       "\n",
       "    .dataframe thead th {\n",
       "        text-align: right;\n",
       "    }\n",
       "</style>\n",
       "<table border=\"1\" class=\"dataframe\">\n",
       "  <thead>\n",
       "    <tr style=\"text-align: right;\">\n",
       "      <th></th>\n",
       "      <th>patient_id</th>\n",
       "      <th>hospital</th>\n",
       "      <th>admission_date</th>\n",
       "      <th>severity</th>\n",
       "      <th>last_updated</th>\n",
       "      <th>age</th>\n",
       "      <th>gender</th>\n",
       "    </tr>\n",
       "  </thead>\n",
       "  <tbody>\n",
       "    <tr>\n",
       "      <th>0</th>\n",
       "      <td>1</td>\n",
       "      <td>County Hospital</td>\n",
       "      <td>2025-04-02</td>\n",
       "      <td>Low</td>\n",
       "      <td>2025-04-02 18:27:00</td>\n",
       "      <td>3</td>\n",
       "      <td>Other</td>\n",
       "    </tr>\n",
       "    <tr>\n",
       "      <th>1</th>\n",
       "      <td>2</td>\n",
       "      <td>County Hospital</td>\n",
       "      <td>2025-04-02</td>\n",
       "      <td>Moderate</td>\n",
       "      <td>2025-04-02 22:41:00</td>\n",
       "      <td>48</td>\n",
       "      <td>Male</td>\n",
       "    </tr>\n",
       "    <tr>\n",
       "      <th>2</th>\n",
       "      <td>3</td>\n",
       "      <td>General Hospital</td>\n",
       "      <td>2025-04-02</td>\n",
       "      <td>Moderate</td>\n",
       "      <td>2025-04-02 22:27:00</td>\n",
       "      <td>89</td>\n",
       "      <td>Other</td>\n",
       "    </tr>\n",
       "    <tr>\n",
       "      <th>3</th>\n",
       "      <td>4</td>\n",
       "      <td>General Hospital</td>\n",
       "      <td>2025-04-03</td>\n",
       "      <td>Critical</td>\n",
       "      <td>2025-04-03 03:22:00</td>\n",
       "      <td>35</td>\n",
       "      <td>Male</td>\n",
       "    </tr>\n",
       "    <tr>\n",
       "      <th>4</th>\n",
       "      <td>5</td>\n",
       "      <td>County Hospital</td>\n",
       "      <td>2025-04-03</td>\n",
       "      <td>Low</td>\n",
       "      <td>2025-04-03 12:05:00</td>\n",
       "      <td>44</td>\n",
       "      <td>Other</td>\n",
       "    </tr>\n",
       "  </tbody>\n",
       "</table>\n",
       "</div>"
      ],
      "text/plain": [
       "   patient_id          hospital admission_date  severity        last_updated  \\\n",
       "0           1   County Hospital     2025-04-02       Low 2025-04-02 18:27:00   \n",
       "1           2   County Hospital     2025-04-02  Moderate 2025-04-02 22:41:00   \n",
       "2           3  General Hospital     2025-04-02  Moderate 2025-04-02 22:27:00   \n",
       "3           4  General Hospital     2025-04-03  Critical 2025-04-03 03:22:00   \n",
       "4           5   County Hospital     2025-04-03       Low 2025-04-03 12:05:00   \n",
       "\n",
       "   age gender  \n",
       "0    3  Other  \n",
       "1   48   Male  \n",
       "2   89  Other  \n",
       "3   35   Male  \n",
       "4   44  Other  "
      ]
     },
     "execution_count": 1671,
     "metadata": {},
     "output_type": "execute_result"
    }
   ],
   "source": [
    "# Drop the old 'id' column \n",
    "# df_full.drop(columns='id', inplace=True)\n",
    "\n",
    "# Add a new surrogate key as 'patient_id'\n",
    "df_full.insert(0, 'patient_id', range(1, len(df_full) + 1))\n",
    "\n",
    "df_full.drop(columns='id', inplace=True)\n",
    "\n",
    "# Preview result\n",
    "df_full.head()\n"
   ]
  },
  {
   "cell_type": "markdown",
   "id": "21fb6bae",
   "metadata": {},
   "source": [
    " ___\n",
    " ##### *Why Add a Surrogate Key (`patient_id`) and Drop the Original `id`?*\n",
    "\n",
    "- **Ensures Uniqueness**  \n",
    "  A surrogate key like `patient_id` guarantees each row has a unique identifier, which is critical for data integrity—especially if the original `id` column had duplicates or gaps.\n",
    "\n",
    "- **Decouples from Source System**  \n",
    "  Using a new surrogate key prevents dependency on the original system’s identifiers, making the dataset more flexible and portable for future use.\n",
    "\n",
    "- **Improves Data Integration**  \n",
    "  Surrogate keys simplify the process of merging and integrating with other datasets by providing a clean, consistent identifier.\n",
    "  ___\n"
   ]
  },
  {
   "cell_type": "markdown",
   "id": "9670d0e2",
   "metadata": {},
   "source": [
    "### *Categorization*"
   ]
  },
  {
   "cell_type": "code",
   "execution_count": 1672,
   "id": "2dfe074b",
   "metadata": {},
   "outputs": [],
   "source": [
    "\n",
    "# Define bin edges and labels\n",
    "bins = [0, 12, 19, 35, 50, 65, 80, 100]\n",
    "labels = ['Child', 'Teenager', 'Young Adult', 'Middle-aged Adult', \n",
    "          'Senior Adult', 'Elderly', 'Very Elderly']\n",
    "\n",
    "# Create a new column with categorized age groups\n",
    "df_full['age_group'] = pd.cut(df_full['age'], bins=bins, labels=labels, right=True, include_lowest=True)\n"
   ]
  },
  {
   "cell_type": "code",
   "execution_count": 1673,
   "id": "9770832f",
   "metadata": {},
   "outputs": [
    {
     "name": "stdout",
     "output_type": "stream",
     "text": [
      "Age Range       Group Label\n",
      "     0–12             Child\n",
      "    13–19          Teenager\n",
      "    20–35       Young Adult\n",
      "    36–50 Middle-aged Adult\n",
      "    51–65      Senior Adult\n",
      "    66–80           Elderly\n",
      "   81–100      Very Elderly\n"
     ]
    }
   ],
   "source": [
    "\n",
    "\n",
    "# Group by 'age_group' and find min and max ages per group\n",
    "group_ranges = df_full.groupby('age_group',observed=True)['age'].agg(['min', 'max']).reset_index()\n",
    "\n",
    "# Format ranges nicely\n",
    "group_ranges['Age Range'] = group_ranges['min'].astype(str) + '–' + group_ranges['max'].astype(str)\n",
    "\n",
    "# Rename and reorder columns\n",
    "group_ranges = group_ranges[['Age Range', 'age_group']]\n",
    "group_ranges.columns = ['Age Range', 'Group Label']\n",
    "\n",
    "# Print the result\n",
    "print(group_ranges.to_string(index=False))\n"
   ]
  },
  {
   "cell_type": "markdown",
   "id": "d33ac72a",
   "metadata": {},
   "source": [
    "___\n",
    "##### Importance of Categorization\n",
    "- **Simplifies Analysis and Visualization**  \n",
    "  Grouping continuous age data into meaningful categories (e.g., Child, Teenager, etc.) makes it easier to summarize, compare, and visualize patterns in the dataset (e.g., admission trends by age group).\n",
    "\n",
    "- **Enables Categorical Aggregation**  \n",
    "  Creating age groups allows for grouping and aggregating data (like count or severity) based on age categories, which is essential for reporting and demographic analysis in healthcare datasets.\n",
    "___"
   ]
  },
  {
   "cell_type": "code",
   "execution_count": 1674,
   "id": "0b49fd1c",
   "metadata": {},
   "outputs": [],
   "source": [
    "df_full.to_csv(\"transformed_full.csv\", index=False)"
   ]
  },
  {
   "cell_type": "markdown",
   "id": "64b9d296",
   "metadata": {},
   "source": [
    "### **Incremental Data**"
   ]
  },
  {
   "cell_type": "markdown",
   "id": "310d9a96",
   "metadata": {},
   "source": [
    "#### *Data Cleaning*"
   ]
  },
  {
   "cell_type": "code",
   "execution_count": 1675,
   "id": "61f666e5",
   "metadata": {},
   "outputs": [],
   "source": [
    "#Load dataset with incremental updates\n",
    "df_incremental= pd.read_csv(\"hospital_admission_incremental.csv\", parse_dates=[\"last_updated\"])"
   ]
  },
  {
   "cell_type": "code",
   "execution_count": 1676,
   "id": "45f3abb8",
   "metadata": {},
   "outputs": [
    {
     "data": {
      "text/plain": [
       "0"
      ]
     },
     "execution_count": 1676,
     "metadata": {},
     "output_type": "execute_result"
    }
   ],
   "source": [
    "df_incremental.duplicated().sum()"
   ]
  },
  {
   "cell_type": "code",
   "execution_count": 1677,
   "id": "9cf10487",
   "metadata": {},
   "outputs": [
    {
     "name": "stdout",
     "output_type": "stream",
     "text": [
      "<class 'pandas.core.frame.DataFrame'>\n",
      "RangeIndex: 198 entries, 0 to 197\n",
      "Data columns (total 7 columns):\n",
      " #   Column          Non-Null Count  Dtype         \n",
      "---  ------          --------------  -----         \n",
      " 0   id              198 non-null    int64         \n",
      " 1   hospital        198 non-null    object        \n",
      " 2   admission_date  198 non-null    object        \n",
      " 3   severity        198 non-null    object        \n",
      " 4   last_updated    198 non-null    datetime64[ns]\n",
      " 5   age             174 non-null    float64       \n",
      " 6   gender          181 non-null    object        \n",
      "dtypes: datetime64[ns](1), float64(1), int64(1), object(4)\n",
      "memory usage: 11.0+ KB\n"
     ]
    }
   ],
   "source": [
    "df_incremental.info()"
   ]
  },
  {
   "cell_type": "code",
   "execution_count": 1678,
   "id": "a086b0db",
   "metadata": {},
   "outputs": [],
   "source": [
    "\n",
    "# Safely fill missing values in 'age' using .loc\n",
    "df_incremental.loc[:, \"age\"] = df_incremental[\"age\"].fillna(df_incremental[\"age\"].mean())\n",
    "\n",
    "# Safely fill missing values in 'gender' using .loc\n",
    "df_incremental.loc[:, \"gender\"] = df_incremental[\"gender\"].fillna(df_incremental[\"gender\"].mode()[0])\n"
   ]
  },
  {
   "cell_type": "code",
   "execution_count": 1679,
   "id": "541eeeda",
   "metadata": {},
   "outputs": [
    {
     "name": "stdout",
     "output_type": "stream",
     "text": [
      "<class 'pandas.core.frame.DataFrame'>\n",
      "RangeIndex: 198 entries, 0 to 197\n",
      "Data columns (total 7 columns):\n",
      " #   Column          Non-Null Count  Dtype         \n",
      "---  ------          --------------  -----         \n",
      " 0   id              198 non-null    int64         \n",
      " 1   hospital        198 non-null    object        \n",
      " 2   admission_date  198 non-null    object        \n",
      " 3   severity        198 non-null    object        \n",
      " 4   last_updated    198 non-null    datetime64[ns]\n",
      " 5   age             198 non-null    float64       \n",
      " 6   gender          198 non-null    object        \n",
      "dtypes: datetime64[ns](1), float64(1), int64(1), object(4)\n",
      "memory usage: 11.0+ KB\n"
     ]
    }
   ],
   "source": [
    "# Inspect the final structure and data types\n",
    "df_incremental.info()"
   ]
  },
  {
   "cell_type": "code",
   "execution_count": 1680,
   "id": "ef06d0a8",
   "metadata": {},
   "outputs": [],
   "source": [
    "df_incremental['admission_date'] = pd.to_datetime(df_incremental['admission_date'])\n",
    "df_incremental['age'] = df_incremental['age'].astype(int)"
   ]
  },
  {
   "cell_type": "code",
   "execution_count": 1681,
   "id": "7de43070",
   "metadata": {},
   "outputs": [
    {
     "name": "stdout",
     "output_type": "stream",
     "text": [
      "<class 'pandas.core.frame.DataFrame'>\n",
      "RangeIndex: 198 entries, 0 to 197\n",
      "Data columns (total 7 columns):\n",
      " #   Column          Non-Null Count  Dtype         \n",
      "---  ------          --------------  -----         \n",
      " 0   id              198 non-null    int64         \n",
      " 1   hospital        198 non-null    object        \n",
      " 2   admission_date  198 non-null    datetime64[ns]\n",
      " 3   severity        198 non-null    object        \n",
      " 4   last_updated    198 non-null    datetime64[ns]\n",
      " 5   age             198 non-null    int32         \n",
      " 6   gender          198 non-null    object        \n",
      "dtypes: datetime64[ns](2), int32(1), int64(1), object(3)\n",
      "memory usage: 10.2+ KB\n"
     ]
    }
   ],
   "source": [
    "df_incremental.info()"
   ]
  },
  {
   "cell_type": "markdown",
   "id": "121a2c0b",
   "metadata": {},
   "source": [
    "### *Key Restructuring*"
   ]
  },
  {
   "cell_type": "code",
   "execution_count": 1682,
   "id": "537605c2",
   "metadata": {},
   "outputs": [
    {
     "data": {
      "application/vnd.microsoft.datawrangler.viewer.v0+json": {
       "columns": [
        {
         "name": "index",
         "rawType": "int64",
         "type": "integer"
        },
        {
         "name": "patient_id",
         "rawType": "int64",
         "type": "integer"
        },
        {
         "name": "hospital",
         "rawType": "object",
         "type": "string"
        },
        {
         "name": "admission_date",
         "rawType": "datetime64[ns]",
         "type": "datetime"
        },
        {
         "name": "severity",
         "rawType": "object",
         "type": "string"
        },
        {
         "name": "last_updated",
         "rawType": "datetime64[ns]",
         "type": "datetime"
        },
        {
         "name": "age",
         "rawType": "int32",
         "type": "integer"
        },
        {
         "name": "gender",
         "rawType": "object",
         "type": "string"
        }
       ],
       "ref": "61b26ddc-0402-47d1-ba3b-79cb37d5f4b1",
       "rows": [
        [
         "0",
         "1",
         "City Clinic",
         "2025-04-20 00:00:00",
         "Critical",
         "2025-04-20 18:39:00",
         "41",
         "Other"
        ],
        [
         "1",
         "2",
         "County Hospital",
         "2025-04-20 00:00:00",
         "Low",
         "2025-04-20 16:12:00",
         "33",
         "Female"
        ],
        [
         "2",
         "3",
         "St. Mary’s",
         "2025-04-20 00:00:00",
         "Critical",
         "2025-04-20 14:50:00",
         "10",
         "Male"
        ],
        [
         "3",
         "4",
         "Mercy Medical",
         "2025-04-20 00:00:00",
         "High",
         "2025-04-20 15:35:00",
         "2",
         "Male"
        ],
        [
         "4",
         "5",
         "Mercy Medical",
         "2025-04-21 00:00:00",
         "High",
         "2025-04-21 08:14:00",
         "54",
         "Other"
        ]
       ],
       "shape": {
        "columns": 7,
        "rows": 5
       }
      },
      "text/html": [
       "<div>\n",
       "<style scoped>\n",
       "    .dataframe tbody tr th:only-of-type {\n",
       "        vertical-align: middle;\n",
       "    }\n",
       "\n",
       "    .dataframe tbody tr th {\n",
       "        vertical-align: top;\n",
       "    }\n",
       "\n",
       "    .dataframe thead th {\n",
       "        text-align: right;\n",
       "    }\n",
       "</style>\n",
       "<table border=\"1\" class=\"dataframe\">\n",
       "  <thead>\n",
       "    <tr style=\"text-align: right;\">\n",
       "      <th></th>\n",
       "      <th>patient_id</th>\n",
       "      <th>hospital</th>\n",
       "      <th>admission_date</th>\n",
       "      <th>severity</th>\n",
       "      <th>last_updated</th>\n",
       "      <th>age</th>\n",
       "      <th>gender</th>\n",
       "    </tr>\n",
       "  </thead>\n",
       "  <tbody>\n",
       "    <tr>\n",
       "      <th>0</th>\n",
       "      <td>1</td>\n",
       "      <td>City Clinic</td>\n",
       "      <td>2025-04-20</td>\n",
       "      <td>Critical</td>\n",
       "      <td>2025-04-20 18:39:00</td>\n",
       "      <td>41</td>\n",
       "      <td>Other</td>\n",
       "    </tr>\n",
       "    <tr>\n",
       "      <th>1</th>\n",
       "      <td>2</td>\n",
       "      <td>County Hospital</td>\n",
       "      <td>2025-04-20</td>\n",
       "      <td>Low</td>\n",
       "      <td>2025-04-20 16:12:00</td>\n",
       "      <td>33</td>\n",
       "      <td>Female</td>\n",
       "    </tr>\n",
       "    <tr>\n",
       "      <th>2</th>\n",
       "      <td>3</td>\n",
       "      <td>St. Mary’s</td>\n",
       "      <td>2025-04-20</td>\n",
       "      <td>Critical</td>\n",
       "      <td>2025-04-20 14:50:00</td>\n",
       "      <td>10</td>\n",
       "      <td>Male</td>\n",
       "    </tr>\n",
       "    <tr>\n",
       "      <th>3</th>\n",
       "      <td>4</td>\n",
       "      <td>Mercy Medical</td>\n",
       "      <td>2025-04-20</td>\n",
       "      <td>High</td>\n",
       "      <td>2025-04-20 15:35:00</td>\n",
       "      <td>2</td>\n",
       "      <td>Male</td>\n",
       "    </tr>\n",
       "    <tr>\n",
       "      <th>4</th>\n",
       "      <td>5</td>\n",
       "      <td>Mercy Medical</td>\n",
       "      <td>2025-04-21</td>\n",
       "      <td>High</td>\n",
       "      <td>2025-04-21 08:14:00</td>\n",
       "      <td>54</td>\n",
       "      <td>Other</td>\n",
       "    </tr>\n",
       "  </tbody>\n",
       "</table>\n",
       "</div>"
      ],
      "text/plain": [
       "   patient_id         hospital admission_date  severity        last_updated  \\\n",
       "0           1      City Clinic     2025-04-20  Critical 2025-04-20 18:39:00   \n",
       "1           2  County Hospital     2025-04-20       Low 2025-04-20 16:12:00   \n",
       "2           3       St. Mary’s     2025-04-20  Critical 2025-04-20 14:50:00   \n",
       "3           4    Mercy Medical     2025-04-20      High 2025-04-20 15:35:00   \n",
       "4           5    Mercy Medical     2025-04-21      High 2025-04-21 08:14:00   \n",
       "\n",
       "   age  gender  \n",
       "0   41   Other  \n",
       "1   33  Female  \n",
       "2   10    Male  \n",
       "3    2    Male  \n",
       "4   54   Other  "
      ]
     },
     "execution_count": 1682,
     "metadata": {},
     "output_type": "execute_result"
    }
   ],
   "source": [
    "# Add a new surrogate key as 'patient_id'\n",
    "df_incremental.insert(0, 'patient_id', range(1, len(df_incremental) + 1))\n",
    "\n",
    "df_incremental.drop(columns='id', inplace=True)\n",
    "\n",
    "# Preview result\n",
    "df_incremental.head()\n"
   ]
  },
  {
   "cell_type": "markdown",
   "id": "ef2bcb42",
   "metadata": {},
   "source": [
    "### *Categorization*"
   ]
  },
  {
   "cell_type": "code",
   "execution_count": 1683,
   "id": "4a35bea0",
   "metadata": {},
   "outputs": [],
   "source": [
    "\n",
    "# Define bin edges and labels\n",
    "bins = [0, 12, 19, 35, 50, 65, 80, 100]\n",
    "labels = ['Child', 'Teenager', 'Young Adult', 'Middle-aged Adult', \n",
    "          'Senior Adult', 'Elderly', 'Very Elderly']\n",
    "\n",
    "# Create a new column with categorized age groups\n",
    "df_incremental['age_group'] = pd.cut(df_incremental['age'], bins=bins, labels=labels, right=True, include_lowest=True)\n"
   ]
  },
  {
   "cell_type": "code",
   "execution_count": 1684,
   "id": "d5e0b2b0",
   "metadata": {},
   "outputs": [
    {
     "name": "stdout",
     "output_type": "stream",
     "text": [
      "Age Range       Group Label\n",
      "     0–12             Child\n",
      "    13–19          Teenager\n",
      "    21–35       Young Adult\n",
      "    36–50 Middle-aged Adult\n",
      "    53–65      Senior Adult\n",
      "    66–80           Elderly\n",
      "   81–100      Very Elderly\n"
     ]
    }
   ],
   "source": [
    "# Group by 'age_group' and find min and max ages per group\n",
    "group_ranges = df_incremental.groupby('age_group',observed=True)['age'].agg(['min', 'max']).reset_index()\n",
    "\n",
    "# Format ranges nicely\n",
    "group_ranges['Age Range'] = group_ranges['min'].astype(str) + '–' + group_ranges['max'].astype(str)\n",
    "\n",
    "# Rename and reorder columns\n",
    "group_ranges = group_ranges[['Age Range', 'age_group']]\n",
    "group_ranges.columns = ['Age Range', 'Group Label']\n",
    "\n",
    "# Print the result\n",
    "print(group_ranges.to_string(index=False))\n"
   ]
  }
 ],
 "metadata": {
  "kernelspec": {
   "display_name": "Python 3",
   "language": "python",
   "name": "python3"
  },
  "language_info": {
   "codemirror_mode": {
    "name": "ipython",
    "version": 3
   },
   "file_extension": ".py",
   "mimetype": "text/x-python",
   "name": "python",
   "nbconvert_exporter": "python",
   "pygments_lexer": "ipython3",
   "version": "3.12.10"
  }
 },
 "nbformat": 4,
 "nbformat_minor": 5
}
