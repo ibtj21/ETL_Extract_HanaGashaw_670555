{
 "cells": [
  {
   "cell_type": "markdown",
   "id": "b2c9fd5c",
   "metadata": {},
   "source": [
    "### Simulating a Time-Based Data Pipeline with Full and Incremental Extraction Using Hospital Admissions Data\n"
   ]
  },
  {
   "cell_type": "markdown",
   "id": "47c2bbbc",
   "metadata": {},
   "source": [
    "##### **Import necessary libraries**"
   ]
  },
  {
   "cell_type": "code",
   "execution_count": 37,
   "id": "f534dd8e",
   "metadata": {},
   "outputs": [],
   "source": [
    "import pandas as pd\n",
    "import numpy as np\n",
    "from datetime import datetime, timedelta\n",
    "import random"
   ]
  },
  {
   "cell_type": "markdown",
   "id": "c1e92914",
   "metadata": {},
   "source": [
    "#### **Hospital Admissions Data Simulation**\n",
    "In the following code:\n",
    "\n",
    "- A realistic hospital admissions dataset is simulated over a 60-day period starting April 1, 2025.  \n",
    "- Hospitals and patient severity levels are predefined for random assignment to each admission.  \n",
    "- For each day, between 3 and 6 admissions are generated.\n",
    "- Records between 180 & 360(inclusive) are expected in any random run.\n",
    "- Each admission is assigned a random patient ID, hospital, severity level, and a last updated timestamp with a random hour and minute on the admission date.  \n",
    "- All records are stored in a list of dictionaries.  \n",
    "- The list is converted into a Pandas DataFrame for easier data handling.  \n",
    "- The DataFrame is saved as a CSV file named `'hospital_admissions.csv'`.  \n",
    "- A preview of the first few rows is displayed to verify the structure and content of the data.\n"
   ]
  },
  {
   "cell_type": "code",
   "execution_count": 38,
   "id": "99071a23",
   "metadata": {},
   "outputs": [
    {
     "data": {
      "application/vnd.microsoft.datawrangler.viewer.v0+json": {
       "columns": [
        {
         "name": "index",
         "rawType": "int64",
         "type": "integer"
        },
        {
         "name": "id",
         "rawType": "int64",
         "type": "integer"
        },
        {
         "name": "hospital",
         "rawType": "object",
         "type": "string"
        },
        {
         "name": "admission_date",
         "rawType": "object",
         "type": "string"
        },
        {
         "name": "severity",
         "rawType": "object",
         "type": "string"
        },
        {
         "name": "last_updated",
         "rawType": "object",
         "type": "string"
        }
       ],
       "ref": "db28f6f5-b76c-42c8-98ac-b921e6c9b4a0",
       "rows": [
        [
         "0",
         "1409",
         "Mercy Medical",
         "2025-04-02",
         "Moderate",
         "2025-04-02T07:08:00"
        ],
        [
         "1",
         "2679",
         "County Hospital",
         "2025-04-02",
         "Low",
         "2025-04-02T18:27:00"
        ],
        [
         "2",
         "1520",
         "General Hospital",
         "2025-04-02",
         "Low",
         "2025-04-02T06:14:00"
        ],
        [
         "3",
         "4257",
         "County Hospital",
         "2025-04-03",
         "Critical",
         "2025-04-03T07:28:00"
        ],
        [
         "4",
         "5557",
         "General Hospital",
         "2025-04-03",
         "Moderate",
         "2025-04-03T22:27:00"
        ]
       ],
       "shape": {
        "columns": 5,
        "rows": 5
       }
      },
      "text/html": [
       "<div>\n",
       "<style scoped>\n",
       "    .dataframe tbody tr th:only-of-type {\n",
       "        vertical-align: middle;\n",
       "    }\n",
       "\n",
       "    .dataframe tbody tr th {\n",
       "        vertical-align: top;\n",
       "    }\n",
       "\n",
       "    .dataframe thead th {\n",
       "        text-align: right;\n",
       "    }\n",
       "</style>\n",
       "<table border=\"1\" class=\"dataframe\">\n",
       "  <thead>\n",
       "    <tr style=\"text-align: right;\">\n",
       "      <th></th>\n",
       "      <th>id</th>\n",
       "      <th>hospital</th>\n",
       "      <th>admission_date</th>\n",
       "      <th>severity</th>\n",
       "      <th>last_updated</th>\n",
       "    </tr>\n",
       "  </thead>\n",
       "  <tbody>\n",
       "    <tr>\n",
       "      <th>0</th>\n",
       "      <td>1409</td>\n",
       "      <td>Mercy Medical</td>\n",
       "      <td>2025-04-02</td>\n",
       "      <td>Moderate</td>\n",
       "      <td>2025-04-02T07:08:00</td>\n",
       "    </tr>\n",
       "    <tr>\n",
       "      <th>1</th>\n",
       "      <td>2679</td>\n",
       "      <td>County Hospital</td>\n",
       "      <td>2025-04-02</td>\n",
       "      <td>Low</td>\n",
       "      <td>2025-04-02T18:27:00</td>\n",
       "    </tr>\n",
       "    <tr>\n",
       "      <th>2</th>\n",
       "      <td>1520</td>\n",
       "      <td>General Hospital</td>\n",
       "      <td>2025-04-02</td>\n",
       "      <td>Low</td>\n",
       "      <td>2025-04-02T06:14:00</td>\n",
       "    </tr>\n",
       "    <tr>\n",
       "      <th>3</th>\n",
       "      <td>4257</td>\n",
       "      <td>County Hospital</td>\n",
       "      <td>2025-04-03</td>\n",
       "      <td>Critical</td>\n",
       "      <td>2025-04-03T07:28:00</td>\n",
       "    </tr>\n",
       "    <tr>\n",
       "      <th>4</th>\n",
       "      <td>5557</td>\n",
       "      <td>General Hospital</td>\n",
       "      <td>2025-04-03</td>\n",
       "      <td>Moderate</td>\n",
       "      <td>2025-04-03T22:27:00</td>\n",
       "    </tr>\n",
       "  </tbody>\n",
       "</table>\n",
       "</div>"
      ],
      "text/plain": [
       "     id          hospital admission_date  severity         last_updated\n",
       "0  1409     Mercy Medical     2025-04-02  Moderate  2025-04-02T07:08:00\n",
       "1  2679   County Hospital     2025-04-02       Low  2025-04-02T18:27:00\n",
       "2  1520  General Hospital     2025-04-02       Low  2025-04-02T06:14:00\n",
       "3  4257   County Hospital     2025-04-03  Critical  2025-04-03T07:28:00\n",
       "4  5557  General Hospital     2025-04-03  Moderate  2025-04-03T22:27:00"
      ]
     },
     "execution_count": 38,
     "metadata": {},
     "output_type": "execute_result"
    }
   ],
   "source": [
    "# List of hospitals and severity levels\n",
    "random.seed(42)\n",
    "hospitals = ['General Hospital', 'City Clinic', 'Mercy Medical', 'St. Mary’s', 'County Hospital']\n",
    "severity_levels = ['Low', 'Moderate', 'High', 'Critical']\n",
    "\n",
    "data = []\n",
    "start_date = datetime(2025, 4, 1)\n",
    "\n",
    "# Simulate data for 60 days\n",
    "for i in range(1, 61):\n",
    "    date = start_date + timedelta(days=i)\n",
    "    \n",
    "    # Random 3–6 admissions per day\n",
    "    for _ in range(random.randint(3, 6)):\n",
    "        data.append({\n",
    "            'id': random.randint(1000, 9999),  # Random patient ID\n",
    "            'hospital': random.choice(hospitals),  # Random hospital\n",
    "            'admission_date': date.date().isoformat(),  # Admission date\n",
    "            'severity': random.choice(severity_levels),  # Condition severity\n",
    "            'last_updated': (date + timedelta(\n",
    "                hours=random.randint(0, 23),\n",
    "                minutes=random.randint(0, 59)\n",
    "            )).isoformat()  # Timestamp of last record update\n",
    "        })\n",
    "\n",
    "# Create DataFrame\n",
    "df = pd.DataFrame(data)\n",
    "\n",
    "# Save to CSV\n",
    "df.to_csv('hospital_admissions.csv', index=False)\n",
    "\n",
    "# Preview first few rows\n",
    "df.head()\n"
   ]
  },
  {
   "cell_type": "markdown",
   "id": "0f3f6b5b",
   "metadata": {},
   "source": [
    "#### **Full Extraction**\n",
    "In the following code:\n",
    "- The entire dataset is loaded from the CSV file `'hospital_admissions.csv'` with the `'last_updated'` column parsed as datetime.  \n",
    "- The number of rows and columns in the dataset is displayed separately to give a detailed overview of its dimensions.  \n",
    "- The total number of rows pulled is reiterated for clarity.  \n",
    "- A sample of the first few rows is printed to verify the data content and structure.\n",
    "\n"
   ]
  },
  {
   "cell_type": "code",
   "execution_count": 39,
   "id": "1ab1d2ff",
   "metadata": {},
   "outputs": [
    {
     "name": "stdout",
     "output_type": "stream",
     "text": [
      "Number of rows: 280\n",
      "Number of columns: 5\n",
      "Pulled 280 rows via full extraction.\n",
      "Sample data:\n"
     ]
    },
    {
     "data": {
      "application/vnd.microsoft.datawrangler.viewer.v0+json": {
       "columns": [
        {
         "name": "index",
         "rawType": "int64",
         "type": "integer"
        },
        {
         "name": "id",
         "rawType": "int64",
         "type": "integer"
        },
        {
         "name": "hospital",
         "rawType": "object",
         "type": "string"
        },
        {
         "name": "admission_date",
         "rawType": "object",
         "type": "string"
        },
        {
         "name": "severity",
         "rawType": "object",
         "type": "string"
        },
        {
         "name": "last_updated",
         "rawType": "datetime64[ns]",
         "type": "datetime"
        }
       ],
       "ref": "1a4b6ea4-8e86-4046-9879-07f51f38cd72",
       "rows": [
        [
         "0",
         "1409",
         "Mercy Medical",
         "2025-04-02",
         "Moderate",
         "2025-04-02 07:08:00"
        ],
        [
         "1",
         "2679",
         "County Hospital",
         "2025-04-02",
         "Low",
         "2025-04-02 18:27:00"
        ],
        [
         "2",
         "1520",
         "General Hospital",
         "2025-04-02",
         "Low",
         "2025-04-02 06:14:00"
        ],
        [
         "3",
         "4257",
         "County Hospital",
         "2025-04-03",
         "Critical",
         "2025-04-03 07:28:00"
        ],
        [
         "4",
         "5557",
         "General Hospital",
         "2025-04-03",
         "Moderate",
         "2025-04-03 22:27:00"
        ]
       ],
       "shape": {
        "columns": 5,
        "rows": 5
       }
      },
      "text/html": [
       "<div>\n",
       "<style scoped>\n",
       "    .dataframe tbody tr th:only-of-type {\n",
       "        vertical-align: middle;\n",
       "    }\n",
       "\n",
       "    .dataframe tbody tr th {\n",
       "        vertical-align: top;\n",
       "    }\n",
       "\n",
       "    .dataframe thead th {\n",
       "        text-align: right;\n",
       "    }\n",
       "</style>\n",
       "<table border=\"1\" class=\"dataframe\">\n",
       "  <thead>\n",
       "    <tr style=\"text-align: right;\">\n",
       "      <th></th>\n",
       "      <th>id</th>\n",
       "      <th>hospital</th>\n",
       "      <th>admission_date</th>\n",
       "      <th>severity</th>\n",
       "      <th>last_updated</th>\n",
       "    </tr>\n",
       "  </thead>\n",
       "  <tbody>\n",
       "    <tr>\n",
       "      <th>0</th>\n",
       "      <td>1409</td>\n",
       "      <td>Mercy Medical</td>\n",
       "      <td>2025-04-02</td>\n",
       "      <td>Moderate</td>\n",
       "      <td>2025-04-02 07:08:00</td>\n",
       "    </tr>\n",
       "    <tr>\n",
       "      <th>1</th>\n",
       "      <td>2679</td>\n",
       "      <td>County Hospital</td>\n",
       "      <td>2025-04-02</td>\n",
       "      <td>Low</td>\n",
       "      <td>2025-04-02 18:27:00</td>\n",
       "    </tr>\n",
       "    <tr>\n",
       "      <th>2</th>\n",
       "      <td>1520</td>\n",
       "      <td>General Hospital</td>\n",
       "      <td>2025-04-02</td>\n",
       "      <td>Low</td>\n",
       "      <td>2025-04-02 06:14:00</td>\n",
       "    </tr>\n",
       "    <tr>\n",
       "      <th>3</th>\n",
       "      <td>4257</td>\n",
       "      <td>County Hospital</td>\n",
       "      <td>2025-04-03</td>\n",
       "      <td>Critical</td>\n",
       "      <td>2025-04-03 07:28:00</td>\n",
       "    </tr>\n",
       "    <tr>\n",
       "      <th>4</th>\n",
       "      <td>5557</td>\n",
       "      <td>General Hospital</td>\n",
       "      <td>2025-04-03</td>\n",
       "      <td>Moderate</td>\n",
       "      <td>2025-04-03 22:27:00</td>\n",
       "    </tr>\n",
       "  </tbody>\n",
       "</table>\n",
       "</div>"
      ],
      "text/plain": [
       "     id          hospital admission_date  severity        last_updated\n",
       "0  1409     Mercy Medical     2025-04-02  Moderate 2025-04-02 07:08:00\n",
       "1  2679   County Hospital     2025-04-02       Low 2025-04-02 18:27:00\n",
       "2  1520  General Hospital     2025-04-02       Low 2025-04-02 06:14:00\n",
       "3  4257   County Hospital     2025-04-03  Critical 2025-04-03 07:28:00\n",
       "4  5557  General Hospital     2025-04-03  Moderate 2025-04-03 22:27:00"
      ]
     },
     "execution_count": 39,
     "metadata": {},
     "output_type": "execute_result"
    }
   ],
   "source": [
    "import pandas as pd\n",
    "\n",
    "# Load all rows from the CSV and parse 'last_updated' as datetime\n",
    "df_full = pd.read_csv(\"hospital_admissions.csv\", parse_dates=[\"last_updated\"])\n",
    "\n",
    "print(f\"Number of rows: {df_full.shape[0]}\")    # Rows\n",
    "print(f\"Number of columns: {df_full.shape[1]}\") # Columns\n",
    "\n",
    "# Show how many records were pulled\n",
    "print(f\"Pulled {df_full.shape[0]} rows via full extraction.\")\n",
    "\n",
    "print(\"Sample data:\")\n",
    "df_full.head()\n"
   ]
  },
  {
   "cell_type": "markdown",
   "id": "bebc9b85",
   "metadata": {},
   "source": [
    "#### **Setting Initial Last Extraction Time**\n",
    "In the following code:\n",
    "  \n",
    "- A fixed datetime string `\"2025-04-20 12:00:00\"` is written into a file last_extraction.txt (separately created) to simulate the last time data was extracted.  \n",
    "- This timestamp serves as a reference point for future incremental data extraction processes.\n"
   ]
  },
  {
   "cell_type": "code",
   "execution_count": 40,
   "id": "275944f8",
   "metadata": {},
   "outputs": [],
   "source": [
    "# Set initial last extraction time \n",
    "with open(\"last_extraction.txt\", \"w\") as f:\n",
    "    f.write(\"2025-04-20 12:00:00\") "
   ]
  },
  {
   "cell_type": "markdown",
   "id": "5a2a9621",
   "metadata": {},
   "source": [
    "#### **Incremental Extraction**\n",
    "In the following code:\n",
    "\n",
    "- The last extraction timestamp is read from the file `'last_extraction.txt'` and any extra whitespace is  using strip() function.  \n",
    "- The full dataset is loaded from `'hospital_admissions.csv'` with the `'last_updated'` column parsed as datetime.  \n",
    "- The timestamp from the file is converted into a pandas datetime object for comparison.  \n",
    "- The dataset is filtered to include only rows where the `'last_updated'` timestamp is later than the last extraction time, simulating incremental extraction.  \n",
    "- The number of new or updated rows since the last extraction is displayed.  \n",
    "- A sample of these new/updated records is shown for verification.\n"
   ]
  },
  {
   "cell_type": "code",
   "execution_count": 41,
   "id": "b47a320a",
   "metadata": {},
   "outputs": [
    {
     "name": "stdout",
     "output_type": "stream",
     "text": [
      "Pulled 196 new/updated rows since 2025-04-20 12:00:00.\n"
     ]
    },
    {
     "data": {
      "application/vnd.microsoft.datawrangler.viewer.v0+json": {
       "columns": [
        {
         "name": "index",
         "rawType": "int64",
         "type": "integer"
        },
        {
         "name": "id",
         "rawType": "int64",
         "type": "integer"
        },
        {
         "name": "hospital",
         "rawType": "object",
         "type": "string"
        },
        {
         "name": "admission_date",
         "rawType": "object",
         "type": "string"
        },
        {
         "name": "severity",
         "rawType": "object",
         "type": "string"
        },
        {
         "name": "last_updated",
         "rawType": "datetime64[ns]",
         "type": "datetime"
        }
       ],
       "ref": "b391a2f4-dc35-43c7-b577-f11bd6685ba3",
       "rows": [
        [
         "81",
         "4652",
         "General Hospital",
         "2025-04-20",
         "Moderate",
         "2025-04-20 12:21:00"
        ],
        [
         "85",
         "6663",
         "Mercy Medical",
         "2025-04-21",
         "Critical",
         "2025-04-21 19:32:00"
        ],
        [
         "86",
         "2894",
         "St. Mary’s",
         "2025-04-21",
         "Moderate",
         "2025-04-21 08:02:00"
        ],
        [
         "87",
         "8144",
         "General Hospital",
         "2025-04-21",
         "Moderate",
         "2025-04-21 11:27:00"
        ],
        [
         "88",
         "2146",
         "Mercy Medical",
         "2025-04-21",
         "High",
         "2025-04-21 21:54:00"
        ]
       ],
       "shape": {
        "columns": 5,
        "rows": 5
       }
      },
      "text/html": [
       "<div>\n",
       "<style scoped>\n",
       "    .dataframe tbody tr th:only-of-type {\n",
       "        vertical-align: middle;\n",
       "    }\n",
       "\n",
       "    .dataframe tbody tr th {\n",
       "        vertical-align: top;\n",
       "    }\n",
       "\n",
       "    .dataframe thead th {\n",
       "        text-align: right;\n",
       "    }\n",
       "</style>\n",
       "<table border=\"1\" class=\"dataframe\">\n",
       "  <thead>\n",
       "    <tr style=\"text-align: right;\">\n",
       "      <th></th>\n",
       "      <th>id</th>\n",
       "      <th>hospital</th>\n",
       "      <th>admission_date</th>\n",
       "      <th>severity</th>\n",
       "      <th>last_updated</th>\n",
       "    </tr>\n",
       "  </thead>\n",
       "  <tbody>\n",
       "    <tr>\n",
       "      <th>81</th>\n",
       "      <td>4652</td>\n",
       "      <td>General Hospital</td>\n",
       "      <td>2025-04-20</td>\n",
       "      <td>Moderate</td>\n",
       "      <td>2025-04-20 12:21:00</td>\n",
       "    </tr>\n",
       "    <tr>\n",
       "      <th>85</th>\n",
       "      <td>6663</td>\n",
       "      <td>Mercy Medical</td>\n",
       "      <td>2025-04-21</td>\n",
       "      <td>Critical</td>\n",
       "      <td>2025-04-21 19:32:00</td>\n",
       "    </tr>\n",
       "    <tr>\n",
       "      <th>86</th>\n",
       "      <td>2894</td>\n",
       "      <td>St. Mary’s</td>\n",
       "      <td>2025-04-21</td>\n",
       "      <td>Moderate</td>\n",
       "      <td>2025-04-21 08:02:00</td>\n",
       "    </tr>\n",
       "    <tr>\n",
       "      <th>87</th>\n",
       "      <td>8144</td>\n",
       "      <td>General Hospital</td>\n",
       "      <td>2025-04-21</td>\n",
       "      <td>Moderate</td>\n",
       "      <td>2025-04-21 11:27:00</td>\n",
       "    </tr>\n",
       "    <tr>\n",
       "      <th>88</th>\n",
       "      <td>2146</td>\n",
       "      <td>Mercy Medical</td>\n",
       "      <td>2025-04-21</td>\n",
       "      <td>High</td>\n",
       "      <td>2025-04-21 21:54:00</td>\n",
       "    </tr>\n",
       "  </tbody>\n",
       "</table>\n",
       "</div>"
      ],
      "text/plain": [
       "      id          hospital admission_date  severity        last_updated\n",
       "81  4652  General Hospital     2025-04-20  Moderate 2025-04-20 12:21:00\n",
       "85  6663     Mercy Medical     2025-04-21  Critical 2025-04-21 19:32:00\n",
       "86  2894        St. Mary’s     2025-04-21  Moderate 2025-04-21 08:02:00\n",
       "87  8144  General Hospital     2025-04-21  Moderate 2025-04-21 11:27:00\n",
       "88  2146     Mercy Medical     2025-04-21      High 2025-04-21 21:54:00"
      ]
     },
     "execution_count": 41,
     "metadata": {},
     "output_type": "execute_result"
    }
   ],
   "source": [
    "import pandas as pd\n",
    "\n",
    "# Step 1: Read the last extraction timestamp from the text file\n",
    "with open(\"last_extraction.txt\", \"r\") as f:\n",
    "    last_extraction = f.read().strip()\n",
    "\n",
    "# Step 2: Load the full dataset and parse 'last_updated' as datetime\n",
    "df = pd.read_csv(\"hospital_admissions.csv\", parse_dates=[\"last_updated\"])\n",
    "\n",
    "# Step 3: Convert the last extraction time to datetime format\n",
    "last_extraction_time = pd.to_datetime(last_extraction)\n",
    "\n",
    "# Step 4: Filter rows that were updated after the last extraction time\n",
    "df_incremental = df[df['last_updated'] > last_extraction_time]\n",
    "\n",
    "df_incremental.to_csv(\"hospital_admission_incremental.csv\", index=False)\n",
    "\n",
    "\n",
    "# Step 5: Display results\n",
    "print(f\"Pulled {len(df_incremental)} new/updated rows since {last_extraction}.\")\n",
    "df_incremental.head()\n"
   ]
  },
  {
   "cell_type": "markdown",
   "id": "08a0ceb0",
   "metadata": {},
   "source": [
    "#### **Updating the Last Extraction Timestamp**\n",
    "In this code:\n",
    "\n",
    "- The most recent `'last_updated'` timestamp in the current dataset is identified as the new checkpoint.  \n",
    "- This new checkpoint timestamp is saved to the `'last_extraction.txt'` file, overwriting the previous value.  \n",
    "- A confirmation message is printed to indicate that the last extraction timestamp has been updated successfully.\n"
   ]
  },
  {
   "cell_type": "code",
   "execution_count": 42,
   "id": "6cc8bb45",
   "metadata": {},
   "outputs": [
    {
     "name": "stdout",
     "output_type": "stream",
     "text": [
      "Updated last_extraction.txt to 2025-05-31 15:47:00\n"
     ]
    }
   ],
   "source": [
    "# Step 1: Get the latest timestamp from the data\n",
    "new_checkpoint = df['last_updated'].max()\n",
    "\n",
    "# Step 2: Save this new checkpoint to the extraction file\n",
    "with open(\"last_extraction.txt\", \"w\") as f:\n",
    "    f.write(new_checkpoint.isoformat())\n",
    "\n",
    "# Step 3: Confirm the update\n",
    "print(f\"Updated last_extraction.txt to {new_checkpoint}\")\n"
   ]
  }
 ],
 "metadata": {
  "kernelspec": {
   "display_name": "Python 3",
   "language": "python",
   "name": "python3"
  },
  "language_info": {
   "codemirror_mode": {
    "name": "ipython",
    "version": 3
   },
   "file_extension": ".py",
   "mimetype": "text/x-python",
   "name": "python",
   "nbconvert_exporter": "python",
   "pygments_lexer": "ipython3",
   "version": "3.12.10"
  }
 },
 "nbformat": 4,
 "nbformat_minor": 5
}
